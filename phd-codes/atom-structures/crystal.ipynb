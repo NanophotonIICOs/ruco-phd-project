{
 "cells": [
  {
   "cell_type": "code",
   "execution_count": 35,
   "id": "1b63bb56-4668-49ec-8826-4c7ccf1a8398",
   "metadata": {},
   "outputs": [
    {
     "name": "stderr",
     "output_type": "stream",
     "text": [
      "No protocol specified\n"
     ]
    },
    {
     "data": {
      "image/png": "[encoded data removed]",
      "text/plain": [
       "<Figure size 504x360 with 1 Axes>"
      ]
     },
     "metadata": {
      "needs_background": "light"
     },
     "output_type": "display_data"
    }
   ],
   "source": [
    "import matplotlib.pyplot as plt\n",
    "from ase.visualize.plot import plot_atoms\n",
    "import ase.spacegroup\n",
    "from ase.spacegroup import crystal\n",
    "from ase.visualize import view\n",
    "from ase.io.cif import read_cif\n",
    "from ase.io.xyz import write_xyz\n",
    "from ase.io import read, write\n",
    "from ase.io.xsf import read_xsf, write_xsf\n",
    "from ase.build import make_supercell, bulk\n",
    "import numpy as np\n",
    "from ase import Atoms\n",
    "from ase.lattice import *\n",
    "from ase.dft.kpoints import *\n",
    "from ase.optimize import BFGS,LBFGS\n",
    "from gpaw import GPAW, PW, FermiDirac \n",
    "from ase.constraints import ExpCellFilter\n",
    "\n",
    "plt.rcParams['axes.facecolor']= 'none'\n",
    "plt.rcParams['figure.facecolor'] = 'none'\n",
    "\n",
    "a = 5.628  # Lattice parameter\n",
    "GaAs = crystal(['Ga','As'],\n",
    "                basis=[(0,0,0),(0.25,0.25,0.25)], \n",
    "                spacegroup=216,\n",
    "                cellpar=[a,a,a,90,90,90]\n",
    "              )\n",
    "bp = GaAs.cell.bandpath()\n",
    "path = GaAs.cell.bandpath()\n",
    "atoms =GaAs\n",
    "atoms.pbc = (False, False, True)\n",
    "#atoms.center(vacuum=1.0, axis=2)\n",
    "plt.figure(figsize=(7,5))\n",
    "ax0 = plot_atoms(atoms,\n",
    "           radii=0.5,\n",
    "           rotation='40x,45y,30z',\n",
    "            )\n",
    "ax0.set_axis_off()\n"
   ]
  },
  {
   "cell_type": "code",
   "execution_count": 39,
   "id": "4f4e7e1e-8e2b-4c7e-9da7-27ccbd35b417",
   "metadata": {},
   "outputs": [
    {
     "data": {
      "text/plain": [
       "{'G': array([0, 0, 0]),\n",
       " 'M': array([0.5, 0.5, 0. ]),\n",
       " 'R': array([0.5, 0.5, 0.5]),\n",
       " 'X': array([0. , 0.5, 0. ])}"
      ]
     },
     "execution_count": 39,
     "metadata": {},
     "output_type": "execute_result"
    }
   ],
   "source": [
    "atoms.cell.get_bravais_lattice().get_special_points()"
   ]
  },
  {
   "cell_type": "code",
   "execution_count": null,
   "id": "24415936-6710-4173-9f3a-bc7e91873704",
   "metadata": {},
   "outputs": [],
   "source": [
    "! ls \n",
    "!pwd"
   ]
  },
  {
   "cell_type": "code",
   "execution_count": null,
   "id": "aa25c314-ae55-4d67-adb7-5d90012aed3c",
   "metadata": {},
   "outputs": [],
   "source": [
    "gaas = read('GaAs2.xyz')\n",
    "gaas\n",
    "plt.figure(figsize=(7,5))\n",
    "ax0 = plot_atoms(gaas,\n",
    "           radii=0.5,\n",
    "           rotation='40x,40y,30z',\n",
    "            )\n",
    "ax0.set_axis_off()"
   ]
  },
  {
   "cell_type": "code",
   "execution_count": null,
   "id": "8d780642-49bc-424c-8177-57d58fe4c252",
   "metadata": {},
   "outputs": [],
   "source": [
    "view(gaas)\n",
    "'''\n",
    "atoms colors \n",
    "Ga 0,128,150\n",
    "As 255,255,0\n",
    "Al 173,216,230\n",
    "'''\n"
   ]
  },
  {
   "cell_type": "code",
   "execution_count": null,
   "id": "0bb59c36-047a-42c7-aef3-722d8aebaf5d",
   "metadata": {},
   "outputs": [],
   "source": [
    "from ase.spacegroup import crystal\n",
    "from ase.spacegroup import Spacegroup\n",
    "print(Spacegroup(216))"
   ]
  },
  {
   "cell_type": "code",
   "execution_count": null,
   "id": "a79be1a4-ae91-487e-a951-3ddf8028ab38",
   "metadata": {},
   "outputs": [],
   "source": [
    "from icet.tools import map_structure_to_reference\n",
    "from ase.build import bulk\n",
    "from ase import Atom\n",
    "\n",
    "\n",
    "reference = bulk('Au', a=4.00)\n",
    "\n",
    "supercell = reference.repeat(3)\n",
    "supercell.rattle(0.1)\n",
    "supercell.set_cell(1.05 * supercell.cell, scale_atoms=True)\n",
    "\n",
    "# Switch some atoms to Pd\n",
    "for i in [0, 1, 5, 8, 10]:\n",
    "    supercell[i].symbol = 'Pd'"
   ]
  },
  {
   "cell_type": "code",
   "execution_count": null,
   "id": "d6ce3491-fa76-4af1-bc6b-ed484da8d868",
   "metadata": {},
   "outputs": [],
   "source": [
    "ax0 = plot_atoms(supercell,\n",
    "           radii=0.5,\n",
    "           rotation='45x,-95y,60z',\n",
    "            )\n",
    "ax0.set_axis_off()"
   ]
  },
  {
   "cell_type": "code",
   "execution_count": null,
   "id": "c8a1f371-326c-4014-b2d5-0e05ddc182e1",
   "metadata": {},
   "outputs": [],
   "source": [
    "from ase.lattice import all_variants\n",
    "\n",
    "\n",
    "header = \"\"\"\\\n",
    "\n",
    "Brillouin zone data\n",
    "-------------------\n",
    "\n",
    ".. list-table::\n",
    "    :widths: 10 15 45\n",
    "\"\"\"\n",
    "\n",
    "\n",
    "entry = \"\"\"\\\n",
    "    * - {name} ({longname})\n",
    "      - {bandpath}\n",
    "      - .. image:: {fname}\n",
    "            :width: 40 %\n",
    "\"\"\"\n",
    "\n",
    "with open('bztable.rst', 'w') as fd:\n",
    "    print(header, file=fd)\n",
    "\n",
    "    for i, lat in enumerate([CUB(a=3),FCC(a=3),BCC(a=3)]):\n",
    "        id = '{:02d}.{}'.format(i, lat.variant)\n",
    "        imagefname = '{}.pdf'.format(id)\n",
    "        txt = entry.format(name=lat.variant,\n",
    "                           longname=lat.longname,\n",
    "                           bandpath=lat.bandpath().path,\n",
    "                           fname=imagefname)\n",
    "        print(txt, file=fd)\n",
    "        ax = lat.plot_bz()\n",
    "        fig = ax.get_figure()\n",
    "        fig.savefig(imagefname, bbox_inches='tight')\n",
    "        fig.clear()\n",
    "        \n",
    "        "
   ]
  },
  {
   "cell_type": "code",
   "execution_count": null,
   "id": "0a77c562-30af-4c29-8a4a-d5ee3b796893",
   "metadata": {},
   "outputs": [],
   "source": [
    "from ase.lattice import FCC, MCL\n",
    "FCC(5.65).plot_bz()"
   ]
  },
  {
   "cell_type": "code",
   "execution_count": null,
   "id": "3163b0a3-de0d-47f5-aed0-939c4ffbf499",
   "metadata": {},
   "outputs": [],
   "source": [
    "from ase.lattice.cubic import FaceCenteredCubic\n",
    "atoms = FaceCenteredCubic(directions=[[1,-1,0], [1,1,-2], [1,1,1]],\n",
    "                          size=(2,2,3), symbol='Cu', pbc=(1,1,0))\n"
   ]
  },
  {
   "cell_type": "code",
   "execution_count": null,
   "id": "6201b4eb-21fc-4fce-9a3e-b695706f6dd1",
   "metadata": {},
   "outputs": [],
   "source": [
    "from ase.lattice.cubic import FaceCenteredCubicFactory\n",
    "from ase.lattice.cubic import DiamondFactory, SimpleCubicFactory\n",
    "\n",
    "\n",
    "class ZnSFactory(DiamondFactory):\n",
    "    \"A factory for creating ZnS (B3, Zincblende) lattices.\"\n",
    "    element_basis = (0, 1)\n",
    "zn= ZnSFactory()\n",
    "\n",
    "zn.plot_bz()"
   ]
  },
  {
   "cell_type": "code",
   "execution_count": 22,
   "id": "0e1718fc-fc3f-47fc-8e25-f86cca5e34f3",
   "metadata": {},
   "outputs": [
    {
     "name": "stdout",
     "output_type": "stream",
     "text": [
      "\n",
      "------Crystal from Seed------\n",
      "Dimension: 3\n",
      "Composition: Ga4As4\n",
      "Group: F-43m (216)\n",
      "cubic lattice:   5.7502   5.7502   5.7502  90.0000  90.0000  90.0000\n",
      "Wyckoff sites:\n",
      "\tGa @ [ 0.0000  0.0000  0.0000], WP [4a] Site [-43m]\n",
      "\tAs @ [ 0.7500  0.7500  0.7500], WP [4d] Site [-433mm]\n"
     ]
    },
    {
     "data": {
      "application/3dmoljs_load.v0": "<div id=\"3dmolviewer_16419254175305188\"  style=\"position: relative; width: 600px; height: 300px\">\n        <p id=\"3dmolwarning_16419254175305188\" style=\"background-color:#ffcccc;color:black\">You appear to be running in JupyterLab (or JavaScript failed to load for some other reason).  You need to install the 3dmol extension: <br>\n        <tt>jupyter labextension install jupyterlab_3dmol</tt></p>\n        </div>\n<script>\n\nvar loadScriptAsync = function(uri){\n  return new Promise((resolve, reject) => {\n    var tag = document.createElement('script');\n    tag.src = uri;\n    tag.async = true;\n    tag.onload = () => {\n      resolve();\n    };\n  var firstScriptTag = document.getElementsByTagName('script')[0];\n  firstScriptTag.parentNode.insertBefore(tag, firstScriptTag);\n});\n};\n\nif(typeof $3Dmolpromise === 'undefined') {\n$3Dmolpromise = null;\n  $3Dmolpromise = loadScriptAsync('https://3dmol.org/build/3Dmol.js');\n}\n\nvar viewer_16419254175305188 = null;\nvar warn = document.getElementById(\"3dmolwarning_16419254175305188\");\nif(warn) {\n    warn.parentNode.removeChild(warn);\n}\n$3Dmolpromise.then(function() {\nviewer_16419254175305188 = $3Dmol.createViewer($(\"#3dmolviewer_16419254175305188\"),{backgroundColor:\"white\"});\nviewer_16419254175305188.zoomTo();\n\tviewer_16419254175305188.addModel(\"#############################################################\\n#             ______       _    _          _   \\t            #\\n#            (_____ \\\\     \\\\ \\\\  / /        | |               #\\n#             _____) )   _ \\\\ \\\\/ / |_  ____| |  \\t            #\\n#            |  ____/ | | | )  (|  _)/ _  | | \\t            #\\n#            | |    | |_| |/ /\\\\ \\\\ |_( (_| | |___            #\\n#            |_|     \\\\__  /_/  \\\\_\\\\___)__|_|_____)           #\\n#                   (____/                                  #\\n#---------------------(version    0.4.0)--------------------#\\n#       A Python package for random crystal generation      #\\n#       url: https://github.com/qzhu2017/pyxtal             #\\n#       @Zhu's group at University of Nevada Las Vegas      #\\n#############################################################\\ndata_from_pyxtal\\n\\n_symmetry_space_group_name_H-M 'F-43m'\\n_symmetry_Int_Tables_number                  216\\n_symmetry_cell_setting                     cubic\\n_cell_length_a            5.750182\\n_cell_length_b            5.750182\\n_cell_length_c            5.750182\\n_cell_angle_alpha        90.000000\\n_cell_angle_beta         90.000000\\n_cell_angle_gamma        90.000000\\n_cell_volume            190.127428\\n\\nloop_\\n _symmetry_equiv_pos_site_id\\n _symmetry_equiv_pos_as_xyz\\n1 'x, y, z'\\n2 '-x, -y, z'\\n3 '-x, y, -z'\\n4 'x, -y, -z'\\n5 'z, x, y'\\n6 'z, -x, -y'\\n7 '-z, -x, y'\\n8 '-z, x, -y'\\n9 'y, z, x'\\n10 '-y, z, -x'\\n11 'y, -z, -x'\\n12 '-y, -z, x'\\n13 'y, x, z'\\n14 '-y, -x, z'\\n15 'y, -x, -z'\\n16 '-y, x, -z'\\n17 'x, z, y'\\n18 '-x, z, -y'\\n19 '-x, -z, y'\\n20 'x, -z, -y'\\n21 'z, y, x'\\n22 'z, -y, -x'\\n23 '-z, y, -x'\\n24 '-z, -y, x'\\n25 'x, y+1/2, z+1/2'\\n26 '-x, -y+1/2, z+1/2'\\n27 '-x, y+1/2, -z+1/2'\\n28 'x, -y+1/2, -z+1/2'\\n29 'z, x+1/2, y+1/2'\\n30 'z, -x+1/2, -y+1/2'\\n31 '-z, -x+1/2, y+1/2'\\n32 '-z, x+1/2, -y+1/2'\\n33 'y, z+1/2, x+1/2'\\n34 '-y, z+1/2, -x+1/2'\\n35 'y, -z+1/2, -x+1/2'\\n36 '-y, -z+1/2, x+1/2'\\n37 'y, x+1/2, z+1/2'\\n38 '-y, -x+1/2, z+1/2'\\n39 'y, -x+1/2, -z+1/2'\\n40 '-y, x+1/2, -z+1/2'\\n41 'x, z+1/2, y+1/2'\\n42 '-x, z+1/2, -y+1/2'\\n43 '-x, -z+1/2, y+1/2'\\n44 'x, -z+1/2, -y+1/2'\\n45 'z, y+1/2, x+1/2'\\n46 'z, -y+1/2, -x+1/2'\\n47 '-z, y+1/2, -x+1/2'\\n48 '-z, -y+1/2, x+1/2'\\n49 'x+1/2, y, z+1/2'\\n50 '-x+1/2, -y, z+1/2'\\n51 '-x+1/2, y, -z+1/2'\\n52 'x+1/2, -y, -z+1/2'\\n53 'z+1/2, x, y+1/2'\\n54 'z+1/2, -x, -y+1/2'\\n55 '-z+1/2, -x, y+1/2'\\n56 '-z+1/2, x, -y+1/2'\\n57 'y+1/2, z, x+1/2'\\n58 '-y+1/2, z, -x+1/2'\\n59 'y+1/2, -z, -x+1/2'\\n60 '-y+1/2, -z, x+1/2'\\n61 'y+1/2, x, z+1/2'\\n62 '-y+1/2, -x, z+1/2'\\n63 'y+1/2, -x, -z+1/2'\\n64 '-y+1/2, x, -z+1/2'\\n65 'x+1/2, z, y+1/2'\\n66 '-x+1/2, z, -y+1/2'\\n67 '-x+1/2, -z, y+1/2'\\n68 'x+1/2, -z, -y+1/2'\\n69 'z+1/2, y, x+1/2'\\n70 'z+1/2, -y, -x+1/2'\\n71 '-z+1/2, y, -x+1/2'\\n72 '-z+1/2, -y, x+1/2'\\n73 'x+1/2, y+1/2, z'\\n74 '-x+1/2, -y+1/2, z'\\n75 '-x+1/2, y+1/2, -z'\\n76 'x+1/2, -y+1/2, -z'\\n77 'z+1/2, x+1/2, y'\\n78 'z+1/2, -x+1/2, -y'\\n79 '-z+1/2, -x+1/2, y'\\n80 '-z+1/2, x+1/2, -y'\\n81 'y+1/2, z+1/2, x'\\n82 '-y+1/2, z+1/2, -x'\\n83 'y+1/2, -z+1/2, -x'\\n84 '-y+1/2, -z+1/2, x'\\n85 'y+1/2, x+1/2, z'\\n86 '-y+1/2, -x+1/2, z'\\n87 'y+1/2, -x+1/2, -z'\\n88 '-y+1/2, x+1/2, -z'\\n89 'x+1/2, z+1/2, y'\\n90 '-x+1/2, z+1/2, -y'\\n91 '-x+1/2, -z+1/2, y'\\n92 'x+1/2, -z+1/2, -y'\\n93 'z+1/2, y+1/2, x'\\n94 'z+1/2, -y+1/2, -x'\\n95 '-z+1/2, y+1/2, -x'\\n96 '-z+1/2, -y+1/2, x'\\n\\nloop_\\n _atom_site_label\\n _atom_site_type_symbol\\n _atom_site_symmetry_multiplicity\\n _atom_site_fract_x\\n _atom_site_fract_y\\n _atom_site_fract_z\\n _atom_site_occupancy\\nGa     Ga       4     0.000000    0.000000    0.000000 1\\nAs     As       4     0.750000    0.750000    0.750000 1\\n#END\\n\\n\",\"cif\",{\"doAssembly\": true, \"duplicateAssemblyAtoms\": true});\n\tviewer_16419254175305188.setStyle({\"sphere\": {\"colorscheme\": \"Jmol\", \"scale\": 0.25}, \"stick\": {\"colorscheme\": \"Jmol\", \"radius\": 0.1}});\n\tviewer_16419254175305188.addUnitCell();\n\tviewer_16419254175305188.replicateUnitCell(1,1,1);\n\tviewer_16419254175305188.zoomTo();\nviewer_16419254175305188.render();\n});\n</script>",
      "text/html": [
       "<div id=\"3dmolviewer_16419254175305188\"  style=\"position: relative; width: 600px; height: 300px\">\n",
       "        <p id=\"3dmolwarning_16419254175305188\" style=\"background-color:#ffcccc;color:black\">You appear to be running in JupyterLab (or JavaScript failed to load for some other reason).  You need to install the 3dmol extension: <br>\n",
       "        <tt>jupyter labextension install jupyterlab_3dmol</tt></p>\n",
       "        </div>\n",
       "<script>\n",
       "\n",
       "var loadScriptAsync = function(uri){\n",
       "  return new Promise((resolve, reject) => {\n",
       "    var tag = document.createElement('script');\n",
       "    tag.src = uri;\n",
       "    tag.async = true;\n",
       "    tag.onload = () => {\n",
       "      resolve();\n",
       "    };\n",
       "  var firstScriptTag = document.getElementsByTagName('script')[0];\n",
       "  firstScriptTag.parentNode.insertBefore(tag, firstScriptTag);\n",
       "});\n",
       "};\n",
       "\n",
       "if(typeof $3Dmolpromise === 'undefined') {\n",
       "$3Dmolpromise = null;\n",
       "  $3Dmolpromise = loadScriptAsync('https://3dmol.org/build/3Dmol.js');\n",
       "}\n",
       "\n",
       "var viewer_16419254175305188 = null;\n",
       "var warn = document.getElementById(\"3dmolwarning_16419254175305188\");\n",
       "if(warn) {\n",
       "    warn.parentNode.removeChild(warn);\n",
       "}\n",
       "$3Dmolpromise.then(function() {\n",
       "viewer_16419254175305188 = $3Dmol.createViewer($(\"#3dmolviewer_16419254175305188\"),{backgroundColor:\"white\"});\n",
       "viewer_16419254175305188.zoomTo();\n",
       "\tviewer_16419254175305188.addModel(\"#############################################################\\n#             ______       _    _          _   \\t            #\\n#            (_____ \\\\     \\\\ \\\\  / /        | |               #\\n#             _____) )   _ \\\\ \\\\/ / |_  ____| |  \\t            #\\n#            |  ____/ | | | )  (|  _)/ _  | | \\t            #\\n#            | |    | |_| |/ /\\\\ \\\\ |_( (_| | |___            #\\n#            |_|     \\\\__  /_/  \\\\_\\\\___)__|_|_____)           #\\n#                   (____/                                  #\\n#---------------------(version    0.4.0)--------------------#\\n#       A Python package for random crystal generation      #\\n#       url: https://github.com/qzhu2017/pyxtal             #\\n#       @Zhu's group at University of Nevada Las Vegas      #\\n#############################################################\\ndata_from_pyxtal\\n\\n_symmetry_space_group_name_H-M 'F-43m'\\n_symmetry_Int_Tables_number                  216\\n_symmetry_cell_setting                     cubic\\n_cell_length_a            5.750182\\n_cell_length_b            5.750182\\n_cell_length_c            5.750182\\n_cell_angle_alpha        90.000000\\n_cell_angle_beta         90.000000\\n_cell_angle_gamma        90.000000\\n_cell_volume            190.127428\\n\\nloop_\\n _symmetry_equiv_pos_site_id\\n _symmetry_equiv_pos_as_xyz\\n1 'x, y, z'\\n2 '-x, -y, z'\\n3 '-x, y, -z'\\n4 'x, -y, -z'\\n5 'z, x, y'\\n6 'z, -x, -y'\\n7 '-z, -x, y'\\n8 '-z, x, -y'\\n9 'y, z, x'\\n10 '-y, z, -x'\\n11 'y, -z, -x'\\n12 '-y, -z, x'\\n13 'y, x, z'\\n14 '-y, -x, z'\\n15 'y, -x, -z'\\n16 '-y, x, -z'\\n17 'x, z, y'\\n18 '-x, z, -y'\\n19 '-x, -z, y'\\n20 'x, -z, -y'\\n21 'z, y, x'\\n22 'z, -y, -x'\\n23 '-z, y, -x'\\n24 '-z, -y, x'\\n25 'x, y+1/2, z+1/2'\\n26 '-x, -y+1/2, z+1/2'\\n27 '-x, y+1/2, -z+1/2'\\n28 'x, -y+1/2, -z+1/2'\\n29 'z, x+1/2, y+1/2'\\n30 'z, -x+1/2, -y+1/2'\\n31 '-z, -x+1/2, y+1/2'\\n32 '-z, x+1/2, -y+1/2'\\n33 'y, z+1/2, x+1/2'\\n34 '-y, z+1/2, -x+1/2'\\n35 'y, -z+1/2, -x+1/2'\\n36 '-y, -z+1/2, x+1/2'\\n37 'y, x+1/2, z+1/2'\\n38 '-y, -x+1/2, z+1/2'\\n39 'y, -x+1/2, -z+1/2'\\n40 '-y, x+1/2, -z+1/2'\\n41 'x, z+1/2, y+1/2'\\n42 '-x, z+1/2, -y+1/2'\\n43 '-x, -z+1/2, y+1/2'\\n44 'x, -z+1/2, -y+1/2'\\n45 'z, y+1/2, x+1/2'\\n46 'z, -y+1/2, -x+1/2'\\n47 '-z, y+1/2, -x+1/2'\\n48 '-z, -y+1/2, x+1/2'\\n49 'x+1/2, y, z+1/2'\\n50 '-x+1/2, -y, z+1/2'\\n51 '-x+1/2, y, -z+1/2'\\n52 'x+1/2, -y, -z+1/2'\\n53 'z+1/2, x, y+1/2'\\n54 'z+1/2, -x, -y+1/2'\\n55 '-z+1/2, -x, y+1/2'\\n56 '-z+1/2, x, -y+1/2'\\n57 'y+1/2, z, x+1/2'\\n58 '-y+1/2, z, -x+1/2'\\n59 'y+1/2, -z, -x+1/2'\\n60 '-y+1/2, -z, x+1/2'\\n61 'y+1/2, x, z+1/2'\\n62 '-y+1/2, -x, z+1/2'\\n63 'y+1/2, -x, -z+1/2'\\n64 '-y+1/2, x, -z+1/2'\\n65 'x+1/2, z, y+1/2'\\n66 '-x+1/2, z, -y+1/2'\\n67 '-x+1/2, -z, y+1/2'\\n68 'x+1/2, -z, -y+1/2'\\n69 'z+1/2, y, x+1/2'\\n70 'z+1/2, -y, -x+1/2'\\n71 '-z+1/2, y, -x+1/2'\\n72 '-z+1/2, -y, x+1/2'\\n73 'x+1/2, y+1/2, z'\\n74 '-x+1/2, -y+1/2, z'\\n75 '-x+1/2, y+1/2, -z'\\n76 'x+1/2, -y+1/2, -z'\\n77 'z+1/2, x+1/2, y'\\n78 'z+1/2, -x+1/2, -y'\\n79 '-z+1/2, -x+1/2, y'\\n80 '-z+1/2, x+1/2, -y'\\n81 'y+1/2, z+1/2, x'\\n82 '-y+1/2, z+1/2, -x'\\n83 'y+1/2, -z+1/2, -x'\\n84 '-y+1/2, -z+1/2, x'\\n85 'y+1/2, x+1/2, z'\\n86 '-y+1/2, -x+1/2, z'\\n87 'y+1/2, -x+1/2, -z'\\n88 '-y+1/2, x+1/2, -z'\\n89 'x+1/2, z+1/2, y'\\n90 '-x+1/2, z+1/2, -y'\\n91 '-x+1/2, -z+1/2, y'\\n92 'x+1/2, -z+1/2, -y'\\n93 'z+1/2, y+1/2, x'\\n94 'z+1/2, -y+1/2, -x'\\n95 '-z+1/2, y+1/2, -x'\\n96 '-z+1/2, -y+1/2, x'\\n\\nloop_\\n _atom_site_label\\n _atom_site_type_symbol\\n _atom_site_symmetry_multiplicity\\n _atom_site_fract_x\\n _atom_site_fract_y\\n _atom_site_fract_z\\n _atom_site_occupancy\\nGa     Ga       4     0.000000    0.000000    0.000000 1\\nAs     As       4     0.750000    0.750000    0.750000 1\\n#END\\n\\n\",\"cif\",{\"doAssembly\": true, \"duplicateAssemblyAtoms\": true});\n",
       "\tviewer_16419254175305188.setStyle({\"sphere\": {\"colorscheme\": \"Jmol\", \"scale\": 0.25}, \"stick\": {\"colorscheme\": \"Jmol\", \"radius\": 0.1}});\n",
       "\tviewer_16419254175305188.addUnitCell();\n",
       "\tviewer_16419254175305188.replicateUnitCell(1,1,1);\n",
       "\tviewer_16419254175305188.zoomTo();\n",
       "viewer_16419254175305188.render();\n",
       "});\n",
       "</script>"
      ]
     },
     "metadata": {},
     "output_type": "display_data"
    },
    {
     "data": {
      "text/plain": [
       "<py3Dmol.view at 0x7f0da3092400>"
      ]
     },
     "execution_count": 22,
     "metadata": {},
     "output_type": "execute_result"
    }
   ],
   "source": [
    "from pyxtal import pyxtal\n",
    "C1 = pyxtal()\n",
    "C1.from_seed(lfiles[1])\n",
    "# Alternative, you can also generate the structure with pre-assigned sites\n",
    "# C1.from_random(3, 225, [\"C\"], [12], sites=[[\"4a\", \"8c\"]])\n",
    "\n",
    "print(C1)\n",
    "C1.show()"
   ]
  },
  {
   "cell_type": "code",
   "execution_count": 20,
   "id": "e98038fe-5ca6-455f-b7b7-5c207be804d6",
   "metadata": {},
   "outputs": [
    {
     "data": {
      "text/plain": [
       "'GaAs_mp-2534_primitive.cif'"
      ]
     },
     "execution_count": 20,
     "metadata": {},
     "output_type": "execute_result"
    }
   ],
   "source": [
    "lfiles= !ls *.cif\n",
    "lfiles[1]"
   ]
  },
  {
   "cell_type": "code",
   "execution_count": 28,
   "id": "eb2de095-beaf-4968-8669-88ed694f7d82",
   "metadata": {},
   "outputs": [
    {
     "name": "stdout",
     "output_type": "stream",
     "text": [
      "  2theta     d_hkl     hkl       Intensity  Multi\n",
      "  26.855     3.320   [ 1  1  1]   100.00        8\n",
      "  31.107     2.875   [ 2  0  0]     0.07        6\n",
      "  44.569     2.033   [ 2  2  0]    74.85       12\n",
      "  52.803     1.734   [ 3  1  1]    44.92       24\n",
      "  55.346     1.660   [ 2  2  2]     0.02        8\n",
      "  64.861     1.438   [ 4  0  0]    11.88        6\n",
      "  71.520     1.319   [ 3  3  1]    17.71       24\n",
      "  73.679     1.286   [ 4  2  0]     0.04       24\n",
      "  82.113     1.174   [ 4  2  2]    24.25       24\n",
      "  88.316     1.107   [ 5  1  1]    13.72       24\n",
      "  98.648     1.016   [ 4  4  0]     8.57       12\n",
      "\n"
     ]
    },
    {
     "data": {
      "image/png": "[encoded data removed]",
      "text/plain": [
       "<Figure size 1152x432 with 1 Axes>"
      ]
     },
     "metadata": {
      "needs_background": "light"
     },
     "output_type": "display_data"
    }
   ],
   "source": [
    "xrd = C1.get_XRD(thetas=[0, 100])\n",
    "print(xrd)\n",
    "xrd.plot_pxrd(fontsize=18, figsize=(16,6), show_hkl=True, xlim=[5,100], width=0.5, minimum_I=0.1)"
   ]
  },
  {
   "cell_type": "code",
   "execution_count": 34,
   "id": "d36e7f3f-4430-4afb-9500-a00e9a9b7263",
   "metadata": {},
   "outputs": [
    {
     "data": {
      "text/plain": [
       "Wyckoff position 96i in space group 216 with site symmetry 1\n",
       "x, y, z\n",
       "-x, -y, z\n",
       "-x, y, -z\n",
       "x, -y, -z\n",
       "z, x, y\n",
       "z, -x, -y\n",
       "-z, -x, y\n",
       "-z, x, -y\n",
       "y, z, x\n",
       "-y, z, -x\n",
       "y, -z, -x\n",
       "-y, -z, x\n",
       "y, x, z\n",
       "-y, -x, z\n",
       "y, -x, -z\n",
       "-y, x, -z\n",
       "x, z, y\n",
       "-x, z, -y\n",
       "-x, -z, y\n",
       "x, -z, -y\n",
       "z, y, x\n",
       "z, -y, -x\n",
       "-z, y, -x\n",
       "-z, -y, x\n",
       "x, y+1/2, z+1/2\n",
       "-x, -y+1/2, z+1/2\n",
       "-x, y+1/2, -z+1/2\n",
       "x, -y+1/2, -z+1/2\n",
       "z, x+1/2, y+1/2\n",
       "z, -x+1/2, -y+1/2\n",
       "-z, -x+1/2, y+1/2\n",
       "-z, x+1/2, -y+1/2\n",
       "y, z+1/2, x+1/2\n",
       "-y, z+1/2, -x+1/2\n",
       "y, -z+1/2, -x+1/2\n",
       "-y, -z+1/2, x+1/2\n",
       "y, x+1/2, z+1/2\n",
       "-y, -x+1/2, z+1/2\n",
       "y, -x+1/2, -z+1/2\n",
       "-y, x+1/2, -z+1/2\n",
       "x, z+1/2, y+1/2\n",
       "-x, z+1/2, -y+1/2\n",
       "-x, -z+1/2, y+1/2\n",
       "x, -z+1/2, -y+1/2\n",
       "z, y+1/2, x+1/2\n",
       "z, -y+1/2, -x+1/2\n",
       "-z, y+1/2, -x+1/2\n",
       "-z, -y+1/2, x+1/2\n",
       "x+1/2, y, z+1/2\n",
       "-x+1/2, -y, z+1/2\n",
       "-x+1/2, y, -z+1/2\n",
       "x+1/2, -y, -z+1/2\n",
       "z+1/2, x, y+1/2\n",
       "z+1/2, -x, -y+1/2\n",
       "-z+1/2, -x, y+1/2\n",
       "-z+1/2, x, -y+1/2\n",
       "y+1/2, z, x+1/2\n",
       "-y+1/2, z, -x+1/2\n",
       "y+1/2, -z, -x+1/2\n",
       "-y+1/2, -z, x+1/2\n",
       "y+1/2, x, z+1/2\n",
       "-y+1/2, -x, z+1/2\n",
       "y+1/2, -x, -z+1/2\n",
       "-y+1/2, x, -z+1/2\n",
       "x+1/2, z, y+1/2\n",
       "-x+1/2, z, -y+1/2\n",
       "-x+1/2, -z, y+1/2\n",
       "x+1/2, -z, -y+1/2\n",
       "z+1/2, y, x+1/2\n",
       "z+1/2, -y, -x+1/2\n",
       "-z+1/2, y, -x+1/2\n",
       "-z+1/2, -y, x+1/2\n",
       "x+1/2, y+1/2, z\n",
       "-x+1/2, -y+1/2, z\n",
       "-x+1/2, y+1/2, -z\n",
       "x+1/2, -y+1/2, -z\n",
       "z+1/2, x+1/2, y\n",
       "z+1/2, -x+1/2, -y\n",
       "-z+1/2, -x+1/2, y\n",
       "-z+1/2, x+1/2, -y\n",
       "y+1/2, z+1/2, x\n",
       "-y+1/2, z+1/2, -x\n",
       "y+1/2, -z+1/2, -x\n",
       "-y+1/2, -z+1/2, x\n",
       "y+1/2, x+1/2, z\n",
       "-y+1/2, -x+1/2, z\n",
       "y+1/2, -x+1/2, -z\n",
       "-y+1/2, x+1/2, -z\n",
       "x+1/2, z+1/2, y\n",
       "-x+1/2, z+1/2, -y\n",
       "-x+1/2, -z+1/2, y\n",
       "x+1/2, -z+1/2, -y\n",
       "z+1/2, y+1/2, x\n",
       "z+1/2, -y+1/2, -x\n",
       "-z+1/2, y+1/2, -x\n",
       "-z+1/2, -y+1/2, x"
      ]
     },
     "execution_count": 34,
     "metadata": {},
     "output_type": "execute_result"
    }
   ],
   "source": [
    "from pyxtal.symmetry import Group\n",
    "g = Group(216)\n",
    "g[0]"
   ]
  },
  {
   "cell_type": "code",
   "execution_count": null,
   "id": "abc9b268-1818-446d-b1ef-bcb2b6aa6247",
   "metadata": {},
   "outputs": [],
   "source": []
  }
 ],
 "metadata": {
  "kernelspec": {
   "display_name": "ase",
   "language": "python",
   "name": "ase"
  },
  "language_info": {
   "codemirror_mode": {
    "name": "ipython",
    "version": 3
   },
   "file_extension": ".py",
   "mimetype": "text/x-python",
   "name": "python",
   "nbconvert_exporter": "python",
   "pygments_lexer": "ipython3",
   "version": "3.9.7"
  },
  "widgets": {
   "application/vnd.jupyter.widget-state+json": {
    "state": {},
    "version_major": 2,
    "version_minor": 0
   }
  }
 },
 "nbformat": 4,
 "nbformat_minor": 5
}
