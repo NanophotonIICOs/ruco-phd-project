{
 "cells": [
  {
   "cell_type": "code",
   "execution_count": 2,
   "id": "62e81975-5314-47b5-b8f6-800195a773a4",
   "metadata": {},
   "outputs": [],
   "source": [
    "import sys\n",
    "import os\n",
    "import numpy as np\n",
    "from numpy import linalg as LA\n",
    "import scipy.constants\n",
    "import matplotlib.pyplot as plt\n",
    "import matplotlib as mpl\n",
    "from tqdm import tqdm\n",
    "import matplotlib.gridspec as gridspec\n",
    "from scipy.interpolate import interp1d\n",
    "import glob as glob\n",
    "import SolverCQWs as solver\n",
    "from IPython.display import display, Math\n",
    "from tabulate import tabulate\n",
    "from mpl_toolkits.axes_grid1.inset_locator import zoomed_inset_axes,mark_inset\n",
    "plt.style.use('/media/labfiles/lab-codes/plot-styles/plotstyle.mplstyle')\n"
   ]
  },
  {
   "cell_type": "code",
   "execution_count": 5,
   "id": "1c0f7284-c63c-43a5-ae09-fa941c8e3b77",
   "metadata": {},
   "outputs": [
    {
     "name": "stdout",
     "output_type": "stream",
     "text": [
      "Total layer number: 5\n"
     ]
    },
    {
     "data": {
      "image/png": "[encoded data removed]",
      "text/plain": [
       "<Figure size 1000x500 with 1 Axes>"
      ]
     },
     "metadata": {
      "needs_background": "light"
     },
     "output_type": "display_data"
    },
    {
     "name": "stdout",
     "output_type": "stream",
     "text": [
      "CPU times: user 424 ms, sys: 123 µs, total: 424 ms\n",
      "Wall time: 420 ms\n"
     ]
    }
   ],
   "source": [
    "%%time\n",
    "\n",
    "class Structure(object): pass\n",
    "s = Structure() # this will be our datastructure\n",
    "# TEMPERATURE\n",
    "s.T = 19#Kelvin\n",
    "# Binding Energy\n",
    "s.HHBinding =6.1e-3 #meV\n",
    "s.LHBinding =6.8e-3 #meV\n",
    "# Band Offset ratios\n",
    "s.Qc = 0.65\n",
    "s.Qv = 0.35\n",
    "\n",
    "# Total subband number to be calculated for electrons\n",
    "s.subbands = 5\n",
    "# APPLIED ELECTRIC FIELD\n",
    "s.Fapp = 0e4 # (V/m)\n",
    "\n",
    "# For 1D, z-axis is choosen\n",
    "s.gridfactor = 0.05#nm\n",
    "\n",
    "# REGIONS\n",
    "# Region input is a two-dimensional list input.\n",
    "#         | Thickness (nm) | Material | Alloy fraction | Doping(cm^-3) | n or p type |\n",
    "\n",
    "\n",
    "s.material =[\n",
    "\n",
    "             [ 300.0, 'AlGaAs',   0.15,   0, 'n','Barrier'],\n",
    "             [ 11.87,'GaAs'  ,      0,   0, 'n','Well'],\n",
    "             [ 1.98, 'AlGaAs',   0.15,   0, 'n','Barrier'],\n",
    "             [23.74,'GaAs'  ,      0,   0, 'n','Well'],\n",
    "             [ 300.0, 'AlGaAs',   0.15,   0, 'n','Barrier'],\n",
    "             ]\n",
    "\n",
    "structure = s\n",
    "nm = 1e-9\n",
    "# RUN SIMULATION\n",
    "model = solver.StructureFrom(structure) #\n",
    "\n",
    "xaxis=model.xaxis/nm\n",
    "cb=model.cb\n",
    "vb=model.vb\n",
    "plt.plot(model.xaxis/1e-9,model.cb)\n",
    "plt.plot(model.xaxis/1e-9,model.vb)\n",
    "plt.show()"
   ]
  },
  {
   "cell_type": "code",
   "execution_count": 10,
   "id": "21a391e6-6e13-4811-a87a-298f4f1d5455",
   "metadata": {},
   "outputs": [],
   "source": [
    "class edge:\n",
    "    def __init__(self,xaxis,cb,vb,**kwargs):\n",
    "        self.cb =cb\n",
    "        self.vb =vb\n",
    "        self.xaxis = xaxis\n",
    "    \n",
    "    def plots(self,**kwargs):\n",
    "        fig, (ax1, ax2) = plt.subplots(2, 1, sharex=True)\n",
    "        fig.subplots_adjust(hspace=0.05)  \n",
    "        # plot the same data on both axes\n",
    "        ax1.plot(self.xaxis,self.cb)\n",
    "        ax2.plot(pts)\n",
    "        # zoom-in / limit the view to different portions of the data\n",
    "        ax1.set_ylim(.78, 1.)  # outliers only\n",
    "        ax2.set_ylim(0, .22)  # most of the data\n",
    "\n",
    "        # hide the spines between ax and ax2\n",
    "        ax1.spines.bottom.set_visible(False)\n",
    "        ax2.spines.top.set_visible(False)\n",
    "        ax1.xaxis.tick_top()\n",
    "        ax1.tick_params(labeltop=False)  # don't put tick labels at the top\n",
    "        ax2.xaxis.tick_bottom()\n",
    "\n",
    "        # Now, let's turn towards the cut-out slanted lines.\n",
    "        # We create line objects in axes coordinates, in which (0,0), (0,1),\n",
    "        # (1,0), and (1,1) are the four corners of the axes.\n",
    "        # The slanted lines themselves are markers at those locations, such that the\n",
    "        # lines keep their angle and position, independent of the axes size or scale\n",
    "        # Finally, we need to disable clipping.\n",
    "\n",
    "        d = .5  # proportion of vertical to horizontal extent of the slanted line\n",
    "        kwargs = dict(marker=[(-1, -d), (1, d)], markersize=12,\n",
    "                      linestyle=\"none\", color='k', mec='k', mew=1, clip_on=False)\n",
    "        ax1.plot([0, 1], [0, 0], transform=ax1.transAxes, **kwargs)\n",
    "        ax2.plot([0, 1], [1, 1], transform=ax2.transAxes, **kwargs)\n",
    "\n",
    "\n",
    "        plt.show()\n",
    "\n"
   ]
  },
  {
   "cell_type": "code",
   "execution_count": null,
   "id": "30a546f9-ce25-487e-9bbd-a0dc52fba941",
   "metadata": {},
   "outputs": [],
   "source": [
    "edge"
   ]
  }
 ],
 "metadata": {
  "kernelspec": {
   "display_name": "Python 3 (ipykernel)",
   "language": "python",
   "name": "python3"
  },
  "language_info": {
   "codemirror_mode": {
    "name": "ipython",
    "version": 3
   },
   "file_extension": ".py",
   "mimetype": "text/x-python",
   "name": "python",
   "nbconvert_exporter": "python",
   "pygments_lexer": "ipython3",
   "version": "3.9.7"
  },
  "widgets": {
   "application/vnd.jupyter.widget-state+json": {
    "state": {},
    "version_major": 2,
    "version_minor": 0
   }
  }
 },
 "nbformat": 4,
 "nbformat_minor": 5
}
