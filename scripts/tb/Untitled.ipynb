{
 "cells": [
  {
   "cell_type": "code",
   "execution_count": 4,
   "id": "7b91cfac-12ec-4369-8311-9469db960422",
   "metadata": {},
   "outputs": [
    {
     "name": "stdout",
     "output_type": "stream",
     "text": [
      "A.B=4.50\n"
     ]
    }
   ],
   "source": [
    "## from math import sin,cos,radians\n",
    "A = 4.00\n",
    "B = 5.00\n",
    "\n",
    "θ1=radians(53.0)\n",
    "θ2=radians(130)\n",
    "\n",
    "Ax = A*cos(θ1) \n",
    "Ay = A*sin(θ1) \n",
    "\n",
    "Bx = B*cos(θ2) \n",
    "By = B*sin(θ2) \n",
    "\n",
    "ApB = Ax*Bx+Ay*By\n",
    "\n",
    "print('A.B=%.2f'%ApB)"
   ]
  },
  {
   "cell_type": "code",
   "execution_count": 7,
   "id": "52f5febf-27e8-41a3-848d-b64f0b0f75eb",
   "metadata": {},
   "outputs": [
    {
     "name": "stdout",
     "output_type": "stream",
     "text": [
      "-3.214\n"
     ]
    }
   ],
   "source": [
    "print(\"%.3f\"%Bx)"
   ]
  },
  {
   "cell_type": "code",
   "execution_count": null,
   "id": "6b0212cb-86bb-4058-af8e-711f8d65c85d",
   "metadata": {},
   "outputs": [],
   "source": []
  }
 ],
 "metadata": {
  "kernelspec": {
   "display_name": "Python 3 (ipykernel)",
   "language": "python",
   "name": "python3"
  },
  "language_info": {
   "codemirror_mode": {
    "name": "ipython",
    "version": 3
   },
   "file_extension": ".py",
   "mimetype": "text/x-python",
   "name": "python",
   "nbconvert_exporter": "python",
   "pygments_lexer": "ipython3",
   "version": "3.8.11"
  },
  "widgets": {
   "application/vnd.jupyter.widget-state+json": {
    "state": {},
    "version_major": 2,
    "version_minor": 0
   }
  }
 },
 "nbformat": 4,
 "nbformat_minor": 5
}
